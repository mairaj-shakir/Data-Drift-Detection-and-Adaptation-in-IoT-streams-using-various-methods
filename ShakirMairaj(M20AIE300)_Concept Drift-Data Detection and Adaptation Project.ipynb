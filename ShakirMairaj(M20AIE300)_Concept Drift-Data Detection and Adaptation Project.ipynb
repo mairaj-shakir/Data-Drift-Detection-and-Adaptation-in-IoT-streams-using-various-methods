{
 "cells": [
  {
   "cell_type": "markdown",
   "metadata": {},
   "source": [
    "## Implementation of Concept Drift Detection and Adaption methods and their comparison in IoT Data streams"
   ]
  },
  {
   "cell_type": "markdown",
   "metadata": {},
   "source": [
    "## Import and installing libraries"
   ]
  },
  {
   "cell_type": "code",
   "execution_count": null,
   "metadata": {},
   "outputs": [],
   "source": [
    "import pandas as pd\n",
    "import numpy as np\n",
    "import matplotlib.pyplot as plt\n",
    "import seaborn as sns\n",
    "from sklearn.model_selection import train_test_split\n",
    "from sklearn.metrics import classification_report,confusion_matrix,accuracy_score, precision_score, recall_score, f1_score\n",
    "import lightgbm as lgb\n",
    "import time"
   ]
  },
  {
   "cell_type": "markdown",
   "metadata": {},
   "source": [
    "## Reading the dataset"
   ]
  },
  {
   "cell_type": "code",
   "execution_count": null,
   "metadata": {},
   "outputs": [],
   "source": [
    "df = pd.read_csv(\"./data/IoT_2020_b_0.01_fs.csv\")\n"
   ]
  },
  {
   "cell_type": "markdown",
   "metadata": {},
   "source": [
    "## Training and Testing data split\n"
   ]
  },
  {
   "cell_type": "code",
   "execution_count": null,
   "metadata": {},
   "outputs": [],
   "source": [
    "#10% training set, and 90% test set\n",
    "\n",
    "X = df.drop(['Label'],axis=1)\n",
    "y = df['Label']\n",
    "X_train, X_test, y_train, y_test = train_test_split(X,y, train_size = 0.1, test_size = 0.9, shuffle=False,random_state = 0)"
   ]
  },
  {
   "cell_type": "code",
   "execution_count": null,
   "metadata": {},
   "outputs": [],
   "source": [
    "## Importing the online learning metrics and algorithms from the River library\n",
    "\n",
    "from river import metrics\n",
    "from river import stream\n",
    "from river import tree,neighbors,naive_bayes,ensemble,linear_model\n",
    "from river.drift import DDM, ADWIN"
   ]
  },
  {
   "cell_type": "markdown",
   "metadata": {},
   "source": [
    "## Adaptive Learning Function"
   ]
  },
  {
   "cell_type": "code",
   "execution_count": null,
   "metadata": {},
   "outputs": [],
   "source": [
    "# Creating a generic adaptive learning function\n",
    "\n",
    "\n",
    "def adaptive_learning(model, X_train, y_train, X_test, y_test):\n",
    "    \n",
    "    metric = metrics.Accuracy() # Accuracy metric\n",
    "    i = 0 # counting evaluated data points\n",
    "    j = [] # number of evaluated data points\n",
    "    k = [] # real-time accuracy\n",
    "    xt = [] # true labels of the test set\n",
    "    xp = [] # predicted labels of the test set\n",
    "\n",
    "    # Training set learn\n",
    "    \n",
    "    for xi1, yi1 in stream.iter_pandas(X_train, y_train):\n",
    "        model.learn_one(xi1,yi1) \n",
    "\n",
    "    # Predicting the test set\n",
    "    \n",
    "    for xi, yi in stream.iter_pandas(X_test, y_test):\n",
    "        y_pred= model.predict_one(xi)  # Predict the test sample\n",
    "        model.learn_one(xi,yi) # Learn the test sample\n",
    "        metric = metric.update(yi, y_pred) # Update the real-time accuracy\n",
    "        j.append(i)\n",
    "        k.append(metric.get()*100)\n",
    "        xt.append(yi)\n",
    "        xp.append(y_pred)\n",
    "        i = i+1\n",
    "        \n",
    "    print(\"Accuracy: \"+str(round(accuracy_score(xt,xp),4)*100)+\"%\")\n",
    "    print(\"Precision: \"+str(round(precision_score(xt,xp),4)*100)+\"%\")\n",
    "    print(\"Recall: \"+str(round(recall_score(xt,xp),4)*100)+\"%\")\n",
    "    print(\"F1-score: \"+str(round(f1_score(xt,xp),4)*100)+\"%\")\n",
    "    return j, k"
   ]
  },
  {
   "cell_type": "markdown",
   "metadata": {},
   "source": [
    "### Accuracy changes figure"
   ]
  },
  {
   "cell_type": "code",
   "execution_count": null,
   "metadata": {},
   "outputs": [],
   "source": [
    "def acc_fig(j, k, name):\n",
    "    plt.rcParams.update({'font.size': 15})\n",
    "    plt.figure(1,figsize=(10,6)) \n",
    "    sns.set_style(\"darkgrid\")\n",
    "    plt.clf() \n",
    "    plt.plot(j,k,'-b',label='Avg Accuracy: %.2f%%'%(m[-1]))\n",
    "\n",
    "    plt.legend(loc='best')\n",
    "    plt.title(name+' on IoTID20 dataset', fontsize=15)\n",
    "    plt.xlabel('Number of samples')\n",
    "    plt.ylabel('Accuracy (%)')\n",
    "\n",
    "    plt.draw()"
   ]
  },
  {
   "cell_type": "markdown",
   "metadata": {},
   "source": [
    "## Drift Detection and Adaptation models"
   ]
  },
  {
   "cell_type": "code",
   "execution_count": null,
   "metadata": {},
   "outputs": [],
   "source": [
    "# %%time\n",
    "\n",
    "# Adaptive Random Forest (ARF) model with ADWIN drift detector\n",
    "\n",
    "#model name\n",
    "name1 = \"ARF model with ADWIN drift detector \"\n",
    "\n",
    "#defining model\n",
    "model1 = ensemble.AdaptiveRandomForestClassifier(n_models = 3, drift_detector = ADWIN())\n",
    "\n",
    "#learning model\n",
    "j, k1 = adaptive_learning(model1, X_train, y_train, X_test, y_test)\n",
    "\n",
    "# accuracy change figure\n",
    "acc_fig(j, k1, name1)"
   ]
  },
  {
   "cell_type": "code",
   "execution_count": null,
   "metadata": {},
   "outputs": [],
   "source": [
    "%%time\n",
    "\n",
    "# Adaptive Random Forest (ARF) model with DDM drift detector\n",
    "\n",
    "#model name\n",
    "name2 = \"ARF model with DDM drift detector\"\n",
    "\n",
    "#defining model\n",
    "model2 = ensemble.AdaptiveRandomForestClassifier(n_models = 3, drift_detector = DDM())\n",
    "\n",
    "\n",
    "#learning model\n",
    "j, k2 = adaptive_learning(model2, X_train, y_train, X_test, y_test)\n",
    "\n",
    "# accuracy change figure\n",
    "acc_fig(j, k2, name2)"
   ]
  },
  {
   "cell_type": "code",
   "execution_count": null,
   "metadata": {},
   "outputs": [],
   "source": [
    "%%time\n",
    "\n",
    "# Streaming Random Patches (SRP) model with ADWIN drift detector\n",
    "\n",
    "#model name\n",
    "name3 = \"SRP model with ADWIN drift detector\"\n",
    "\n",
    "#defining model\n",
    "model3 = ensemble.SRPClassifier(n_models = 3, drift_detector = ADWIN())\n",
    "\n",
    "#learning model\n",
    "j, k3 = adaptive_learning(model3, X_train, y_train, X_test, y_test)\n",
    "\n",
    "# accuracy change figure\n",
    "acc_fig(j, k3, name3)"
   ]
  },
  {
   "cell_type": "code",
   "execution_count": null,
   "metadata": {},
   "outputs": [],
   "source": [
    "%%time\n",
    "\n",
    "# Streaming Random Patches (SRP) model with DDM drift detector\n",
    "\n",
    "#model name\n",
    "name4 = \"SRP model with DDM drift detector\"\n",
    "\n",
    "#defining model\n",
    "model4 = ensemble.SRPClassifier(n_models = 3, drift_detector = DDM())\n",
    "\n",
    "#learning model\n",
    "j, k4 = adaptive_learning(model4, X_train, y_train, X_test, y_test)\n",
    "\n",
    "# accuracy change figure\n",
    "acc_fig(j, k4, name4) "
   ]
  },
  {
   "cell_type": "code",
   "execution_count": null,
   "metadata": {},
   "outputs": [],
   "source": [
    "%%time\n",
    "\n",
    "# Extremely Fast Decision Tree (EFDT) model \n",
    "\n",
    "#model name\n",
    "name5 = \"EFDT model\"\n",
    "\n",
    "#defining model\n",
    "model5 = tree.ExtremelyFastDecisionTreeClassifier()\n",
    "\n",
    "#learning model\n",
    "j, k5 = adaptive_learning(model5, X_train, y_train, X_test, y_test)\n",
    "\n",
    "# accuracy change figure\n",
    "acc_fig(j, k5, name5)"
   ]
  },
  {
   "cell_type": "code",
   "execution_count": null,
   "metadata": {},
   "outputs": [],
   "source": [
    "%%time\n",
    "# Hoeffding Tree (HT) model \n",
    "\n",
    "#model name\n",
    "name6 = \"HT model\"\n",
    "\n",
    "#defining model\n",
    "model6 = tree.HoeffdingTreeClassifier()\n",
    "\n",
    "#learning model\n",
    "j, k6 = adaptive_learning(model6, X_train, y_train, X_test, y_test)\n",
    "\n",
    "# accuracy change figure\n",
    "acc_fig(t, m6, name6)"
   ]
  },
  {
   "cell_type": "code",
   "execution_count": null,
   "metadata": {},
   "outputs": [],
   "source": [
    "%%time\n",
    "# Leveraging Bagging (LB) model \n",
    "\n",
    "#model name\n",
    "name7 = \"LB model\"\n",
    "\n",
    "#defining model\n",
    "model7 = ensemble.LeveragingBaggingClassifier(model=tree.HoeffdingTreeClassifier(),n_models=3)\n",
    "\n",
    "#learning model\n",
    "j, k7 = adaptive_learning(model7, X_train, y_train, X_test, y_test) \n",
    "\n",
    "# accuracy change figure\n",
    "acc_fig(j, k7, name7) "
   ]
  },
  {
   "cell_type": "markdown",
   "metadata": {},
   "source": [
    "### Average weighted model"
   ]
  },
  {
   "cell_type": "code",
   "execution_count": null,
   "metadata": {},
   "outputs": [],
   "source": [
    "\n",
    "def AWM(X_train, y_train, X_test, y_test):\n",
    "    \n",
    "    # Record the real-time accuracy and 4 base learners\n",
    "    metric = metrics.Accuracy()\n",
    "    metric1 = metrics.Accuracy()\n",
    "    metric2 = metrics.Accuracy()\n",
    "    metric3 = metrics.Accuracy()\n",
    "    metric4 = metrics.Accuracy()\n",
    "\n",
    "    i=0\n",
    "    j = []\n",
    "    k = []\n",
    "    k1 = []\n",
    "    k2 = []\n",
    "    k3 = []\n",
    "    k4 = []\n",
    "    xt = []\n",
    "    xp = []\n",
    "    \n",
    "     # ARF-ADWIN\n",
    "    e1 = ensemble.AdaptiveRandomForestClassifier(n_models=3)\n",
    "     # SRP-ADWIN\n",
    "    e2 = ensemble.SRPClassifier(n_models=3)\n",
    "     # ARF-DDM\n",
    "    e3 = ensemble.AdaptiveRandomForestClassifier(n_models=3,drift_detector=DDM(),warning_detector=DDM())\n",
    "     # SRP-DDM\n",
    "    e4 = ensemble.SRPClassifier(n_models=3,drift_detector=DDM(),warning_detector=DDM())\n",
    "\n",
    "    # The four base learners learn the training set\n",
    "    for xi1, yi1 in stream.iter_pandas(X_train, y_train):\n",
    "        e1.learn_one(xi1,yi1)\n",
    "        e2.learn_one(xi1,yi1)\n",
    "        e3.learn_one(xi1,yi1)\n",
    "        e4.learn_one(xi1,yi1)\n",
    "\n",
    "    # Predict the test set\n",
    "    for xi, yi in stream.iter_pandas(X_test, y_test):\n",
    "       \n",
    "        y_pred1= e1.predict_one(xi) \n",
    "        y_prob1= e1.predict_proba_one(xi) \n",
    "        e1.learn_one(xi,yi)\n",
    "\n",
    "        y_pred2= e2.predict_one(xi) \n",
    "        y_prob2= e2.predict_proba_one(xi)\n",
    "        e2.learn_one(xi,yi)\n",
    "\n",
    "        y_pred3= e3.predict_one(xi) \n",
    "        y_prob3= e3.predict_proba_one(xi)\n",
    "        e3.learn_one(xi,yi)\n",
    "\n",
    "        y_pred4= e4.predict_one(xi) \n",
    "        y_prob4= e4.predict_proba_one(xi)\n",
    "        e4.learn_one(xi,yi)\n",
    "        \n",
    "        # Record their real-time accuracy\n",
    "        metric1 = metric1.update(yi, y_pred1)\n",
    "        metric2 = metric2.update(yi, y_pred2)\n",
    "        metric3 = metric3.update(yi, y_pred3)\n",
    "        metric4 = metric4.update(yi, y_pred4)    \n",
    "\n",
    "        # Calculate the real-time error rates of four base learners\n",
    "        r1 = 1-metric1.get()\n",
    "        r2 = 1-metric2.get()\n",
    "        r3 = 1-metric3.get()\n",
    "        r4 = 1-metric4.get()\n",
    "\n",
    "        \n",
    "        rp = 0.001 # epsilon\n",
    "        \n",
    "        # Calculate the weight of each base learner by the reciprocal of its real-time error rate\n",
    "        ra = 1/(r1+rp)+1/(r2+rp)+1/(r3+rp)+1/(r4+rp)\n",
    "        w1 = 1/(r1+rp)/ra\n",
    "        w2 = 1/(r2+rp)/ra\n",
    "        w3 = 1/(r3+rp)/ra\n",
    "        w4 = 1/(r4+rp)/ra\n",
    "\n",
    "        # Make ensemble predictions by the classification probabilities\n",
    "        if  y_pred1 == 1:\n",
    "            ypro10=1-y_prob1[1]\n",
    "            ypro11=y_prob1[1]\n",
    "        else:\n",
    "            ypro10=y_prob1[0]\n",
    "            ypro11=1-y_prob1[0]\n",
    "        if  y_pred2 == 1:\n",
    "            ypro20=1-y_prob2[1]\n",
    "            ypro21=y_prob2[1]\n",
    "        else:\n",
    "            ypro20=y_prob2[0]\n",
    "            ypro21=1-y_prob2[0]\n",
    "        if  y_pred3 == 1:\n",
    "            ypro30=1-y_prob3[1]\n",
    "            ypro31=y_prob3[1]\n",
    "        else:\n",
    "            ypro30=y_prob3[0]\n",
    "            ypro31=1-y_prob3[0]\n",
    "        if  y_pred4 == 1:\n",
    "            ypro40=1-y_prob4[1]\n",
    "            ypro41=y_prob4[1]\n",
    "        else:\n",
    "            ypro40=y_prob4[0]\n",
    "            ypro41=1-y_prob4[0]        \n",
    "\n",
    "        # Calculate the final probabilities of classes 0 & 1 to make predictions\n",
    "        y_prob_0 = w1*ypro10+w2*ypro20+w3*ypro30+w4*ypro40\n",
    "        y_prob_1 = w1*ypro11+w2*ypro21+w3*ypro31+w4*ypro41\n",
    "\n",
    "        if (y_prob_0>y_prob_1):\n",
    "            y_pred = 0\n",
    "            y_prob = y_prob_0\n",
    "        else:\n",
    "            y_pred = 1\n",
    "            y_prob = y_prob_1\n",
    "        \n",
    "        # Update the real-time accuracy of the ensemble model\n",
    "        metric = metric.update(yi, y_pred)\n",
    "\n",
    "        j.append(i)\n",
    "        k.append(metric.get()*100)\n",
    "        xt.append(yi)\n",
    "        xp.append(y_pred)\n",
    "        \n",
    "        i=i+1\n",
    "    print(\"Accuracy: \"+str(round(accuracy_score(yt,yp),4)*100)+\"%\")\n",
    "    print(\"Precision: \"+str(round(precision_score(yt,yp),4)*100)+\"%\")\n",
    "    print(\"Recall: \"+str(round(recall_score(yt,yp),4)*100)+\"%\")\n",
    "    print(\"F1-score: \"+str(round(f1_score(yt,yp),4)*100)+\"%\")\n",
    "    return j, k"
   ]
  },
  {
   "cell_type": "code",
   "execution_count": null,
   "metadata": {},
   "outputs": [],
   "source": [
    "%%time\n",
    "# Average weighted model\n",
    "\n",
    "#modelname\n",
    "name = \"Average weighted model\"\n",
    "\n",
    "#learning dataset\n",
    "j, k = AWM(X_train, y_train, X_test, y_test)\n",
    "\n",
    "#accuracy\n",
    "acc_fig(j, k, name) \n"
   ]
  },
  {
   "cell_type": "markdown",
   "metadata": {},
   "source": [
    "### Comparision and plotting of all models"
   ]
  },
  {
   "cell_type": "code",
   "execution_count": null,
   "metadata": {},
   "outputs": [],
   "source": [
    "plt.rcParams.update({'font.size': 30})\n",
    "plt.figure(1,figsize=(24,15)) \n",
    "sns.set_style(\"darkgrid\")\n",
    "plt.clf() \n",
    "\n",
    "# Plotting the accuracy change of each learner\n",
    "plt.plot(j,k,'-r',label=name+', Avg Accuracy: %.2f%%'%(k[-1]))\n",
    "plt.plot(j,k1,'-b',label=name1+', Avg Accuracy: %.2f%%'%(k1[-1]))\n",
    "plt.plot(j,k2,'-g',label=name2+', Avg Accuracy: %.2f%%'%(k2[-1]))\n",
    "plt.plot(j,k3,'orange',label=name3+', Avg Accuracy: %.2f%%'%(k3[-1]))\n",
    "plt.plot(j,k4,'black',label=name4+', Avg Accuracy: %.2f%%'%(k4[-1]))\n",
    "plt.plot(j,k5,'magenta',label=name5+', Avg Accuracy: %.2f%%'%(k5[-1]))\n",
    "plt.plot(j,k6,'grey',label=name6+', Avg Accuracy: %.2f%%'%(k6[-1]))\n",
    "plt.plot(j,k7,'brown',label=name7+', Avg Accuracy: %.2f%%'%(k7[-1]))\n",
    "\n",
    "# Drift points/time\n",
    "dr = [0,270,600]\n",
    "for i in range(len(dr)):\n",
    "    if i!=0:\n",
    "        plt.text(dr[i]-500, 100.8, 'Drift '+str(i), c = \"red\", fontsize = 25)\n",
    "        plt.vlines(dr[i], 0, 100, colors = \"red\", linewidth=4, linestyles = \"dashed\")\n",
    "        \n",
    "plt.legend(loc='lower right')\n",
    "plt.ylim(85, 102)\n",
    "plt.title('Comparsion of all models', fontsize=40)\n",
    "plt.xlabel('Number of samples')\n",
    "plt.ylabel('Accuracy (%)')\n",
    "\n",
    "plt.draw()"
   ]
  }
 ],
 "metadata": {
  "anaconda-cloud": {},
  "kernelspec": {
   "display_name": "Python 3",
   "language": "python",
   "name": "python3"
  },
  "language_info": {
   "codemirror_mode": {
    "name": "ipython",
    "version": 3
   },
   "file_extension": ".py",
   "mimetype": "text/x-python",
   "name": "python",
   "nbconvert_exporter": "python",
   "pygments_lexer": "ipython3",
   "version": "3.8.5"
  }
 },
 "nbformat": 4,
 "nbformat_minor": 2
}
